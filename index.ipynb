{
 "cells": [
  {
   "cell_type": "markdown",
   "metadata": {},
   "source": [
    "# In Depth A/B Testing - Lab\n",
    "\n",
    "## Introduction\n",
    "\n",
    "In this lab, you'll explore a survey from Kaggle regarding budding data scientists. With this, you'll form some initial hypotheses, and test them using the tools you've acquired to date. \n",
    "\n",
    "## Objectives\n",
    "\n",
    "You will be able to:\n",
    "* Conduct statistical tests on a real-world dataset"
   ]
  },
  {
   "cell_type": "markdown",
   "metadata": {},
   "source": [
    "## Load the Dataset and Perform a Brief Exploration\n",
    "\n",
    "The data is stored in a file called **multipleChoiceResponses_cleaned.csv**. Feel free to check out the original dataset referenced at the bottom of this lab, although this cleaned version will undoubtedly be easier to work with. Additionally, meta-data regarding the questions is stored in a file name **schema.csv**. Load in the data itself as a Pandas DataFrame, and take a moment to briefly get acquainted with it.\n",
    "\n",
    "> Note: If you can't get the file to load properly, try changing the encoding format as in `encoding='latin1'`"
   ]
  },
  {
   "cell_type": "code",
   "execution_count": 19,
   "metadata": {},
   "outputs": [
    {
     "data": {
      "text/html": [
       "<div>\n",
       "<style scoped>\n",
       "    .dataframe tbody tr th:only-of-type {\n",
       "        vertical-align: middle;\n",
       "    }\n",
       "\n",
       "    .dataframe tbody tr th {\n",
       "        vertical-align: top;\n",
       "    }\n",
       "\n",
       "    .dataframe thead th {\n",
       "        text-align: right;\n",
       "    }\n",
       "</style>\n",
       "<table border=\"1\" class=\"dataframe\">\n",
       "  <thead>\n",
       "    <tr style=\"text-align: right;\">\n",
       "      <th></th>\n",
       "      <th>GenderSelect</th>\n",
       "      <th>Country</th>\n",
       "      <th>Age</th>\n",
       "      <th>EmploymentStatus</th>\n",
       "      <th>StudentStatus</th>\n",
       "      <th>LearningDataScience</th>\n",
       "      <th>CodeWriter</th>\n",
       "      <th>CareerSwitcher</th>\n",
       "      <th>CurrentJobTitleSelect</th>\n",
       "      <th>TitleFit</th>\n",
       "      <th>...</th>\n",
       "      <th>JobFactorTitle</th>\n",
       "      <th>JobFactorCompanyFunding</th>\n",
       "      <th>JobFactorImpact</th>\n",
       "      <th>JobFactorRemote</th>\n",
       "      <th>JobFactorIndustry</th>\n",
       "      <th>JobFactorLeaderReputation</th>\n",
       "      <th>JobFactorDiversity</th>\n",
       "      <th>JobFactorPublishingOpportunity</th>\n",
       "      <th>exchangeRate</th>\n",
       "      <th>AdjustedCompensation</th>\n",
       "    </tr>\n",
       "  </thead>\n",
       "  <tbody>\n",
       "    <tr>\n",
       "      <th>0</th>\n",
       "      <td>Non-binary, genderqueer, or gender non-conforming</td>\n",
       "      <td>NaN</td>\n",
       "      <td>NaN</td>\n",
       "      <td>Employed full-time</td>\n",
       "      <td>NaN</td>\n",
       "      <td>NaN</td>\n",
       "      <td>Yes</td>\n",
       "      <td>NaN</td>\n",
       "      <td>DBA/Database Engineer</td>\n",
       "      <td>Fine</td>\n",
       "      <td>...</td>\n",
       "      <td>NaN</td>\n",
       "      <td>NaN</td>\n",
       "      <td>NaN</td>\n",
       "      <td>NaN</td>\n",
       "      <td>NaN</td>\n",
       "      <td>NaN</td>\n",
       "      <td>NaN</td>\n",
       "      <td>NaN</td>\n",
       "      <td>NaN</td>\n",
       "      <td>NaN</td>\n",
       "    </tr>\n",
       "    <tr>\n",
       "      <th>1</th>\n",
       "      <td>Female</td>\n",
       "      <td>United States</td>\n",
       "      <td>30.0</td>\n",
       "      <td>Not employed, but looking for work</td>\n",
       "      <td>NaN</td>\n",
       "      <td>NaN</td>\n",
       "      <td>NaN</td>\n",
       "      <td>NaN</td>\n",
       "      <td>NaN</td>\n",
       "      <td>NaN</td>\n",
       "      <td>...</td>\n",
       "      <td>NaN</td>\n",
       "      <td>NaN</td>\n",
       "      <td>NaN</td>\n",
       "      <td>NaN</td>\n",
       "      <td>NaN</td>\n",
       "      <td>Somewhat important</td>\n",
       "      <td>NaN</td>\n",
       "      <td>NaN</td>\n",
       "      <td>NaN</td>\n",
       "      <td>NaN</td>\n",
       "    </tr>\n",
       "    <tr>\n",
       "      <th>2</th>\n",
       "      <td>Male</td>\n",
       "      <td>Canada</td>\n",
       "      <td>28.0</td>\n",
       "      <td>Not employed, but looking for work</td>\n",
       "      <td>NaN</td>\n",
       "      <td>NaN</td>\n",
       "      <td>NaN</td>\n",
       "      <td>NaN</td>\n",
       "      <td>NaN</td>\n",
       "      <td>NaN</td>\n",
       "      <td>...</td>\n",
       "      <td>Very Important</td>\n",
       "      <td>Very Important</td>\n",
       "      <td>Very Important</td>\n",
       "      <td>Very Important</td>\n",
       "      <td>Very Important</td>\n",
       "      <td>Very Important</td>\n",
       "      <td>Very Important</td>\n",
       "      <td>Very Important</td>\n",
       "      <td>NaN</td>\n",
       "      <td>NaN</td>\n",
       "    </tr>\n",
       "    <tr>\n",
       "      <th>3</th>\n",
       "      <td>Male</td>\n",
       "      <td>United States</td>\n",
       "      <td>56.0</td>\n",
       "      <td>Independent contractor, freelancer, or self-em...</td>\n",
       "      <td>NaN</td>\n",
       "      <td>NaN</td>\n",
       "      <td>Yes</td>\n",
       "      <td>NaN</td>\n",
       "      <td>Operations Research Practitioner</td>\n",
       "      <td>Poorly</td>\n",
       "      <td>...</td>\n",
       "      <td>NaN</td>\n",
       "      <td>NaN</td>\n",
       "      <td>NaN</td>\n",
       "      <td>NaN</td>\n",
       "      <td>NaN</td>\n",
       "      <td>NaN</td>\n",
       "      <td>NaN</td>\n",
       "      <td>NaN</td>\n",
       "      <td>1.0</td>\n",
       "      <td>250000.0</td>\n",
       "    </tr>\n",
       "    <tr>\n",
       "      <th>4</th>\n",
       "      <td>Male</td>\n",
       "      <td>Taiwan</td>\n",
       "      <td>38.0</td>\n",
       "      <td>Employed full-time</td>\n",
       "      <td>NaN</td>\n",
       "      <td>NaN</td>\n",
       "      <td>Yes</td>\n",
       "      <td>NaN</td>\n",
       "      <td>Computer Scientist</td>\n",
       "      <td>Fine</td>\n",
       "      <td>...</td>\n",
       "      <td>NaN</td>\n",
       "      <td>NaN</td>\n",
       "      <td>NaN</td>\n",
       "      <td>NaN</td>\n",
       "      <td>NaN</td>\n",
       "      <td>NaN</td>\n",
       "      <td>NaN</td>\n",
       "      <td>NaN</td>\n",
       "      <td>NaN</td>\n",
       "      <td>NaN</td>\n",
       "    </tr>\n",
       "  </tbody>\n",
       "</table>\n",
       "<p>5 rows × 230 columns</p>\n",
       "</div>"
      ],
      "text/plain": [
       "                                        GenderSelect        Country   Age  \\\n",
       "0  Non-binary, genderqueer, or gender non-conforming            NaN   NaN   \n",
       "1                                             Female  United States  30.0   \n",
       "2                                               Male         Canada  28.0   \n",
       "3                                               Male  United States  56.0   \n",
       "4                                               Male         Taiwan  38.0   \n",
       "\n",
       "                                    EmploymentStatus StudentStatus  \\\n",
       "0                                 Employed full-time           NaN   \n",
       "1                 Not employed, but looking for work           NaN   \n",
       "2                 Not employed, but looking for work           NaN   \n",
       "3  Independent contractor, freelancer, or self-em...           NaN   \n",
       "4                                 Employed full-time           NaN   \n",
       "\n",
       "  LearningDataScience CodeWriter CareerSwitcher  \\\n",
       "0                 NaN        Yes            NaN   \n",
       "1                 NaN        NaN            NaN   \n",
       "2                 NaN        NaN            NaN   \n",
       "3                 NaN        Yes            NaN   \n",
       "4                 NaN        Yes            NaN   \n",
       "\n",
       "              CurrentJobTitleSelect TitleFit  ...  JobFactorTitle  \\\n",
       "0             DBA/Database Engineer     Fine  ...             NaN   \n",
       "1                               NaN      NaN  ...             NaN   \n",
       "2                               NaN      NaN  ...  Very Important   \n",
       "3  Operations Research Practitioner   Poorly  ...             NaN   \n",
       "4                Computer Scientist     Fine  ...             NaN   \n",
       "\n",
       "  JobFactorCompanyFunding JobFactorImpact JobFactorRemote JobFactorIndustry  \\\n",
       "0                     NaN             NaN             NaN               NaN   \n",
       "1                     NaN             NaN             NaN               NaN   \n",
       "2          Very Important  Very Important  Very Important    Very Important   \n",
       "3                     NaN             NaN             NaN               NaN   \n",
       "4                     NaN             NaN             NaN               NaN   \n",
       "\n",
       "  JobFactorLeaderReputation JobFactorDiversity JobFactorPublishingOpportunity  \\\n",
       "0                       NaN                NaN                            NaN   \n",
       "1        Somewhat important                NaN                            NaN   \n",
       "2            Very Important     Very Important                 Very Important   \n",
       "3                       NaN                NaN                            NaN   \n",
       "4                       NaN                NaN                            NaN   \n",
       "\n",
       "  exchangeRate AdjustedCompensation  \n",
       "0          NaN                  NaN  \n",
       "1          NaN                  NaN  \n",
       "2          NaN                  NaN  \n",
       "3          1.0             250000.0  \n",
       "4          NaN                  NaN  \n",
       "\n",
       "[5 rows x 230 columns]"
      ]
     },
     "execution_count": 19,
     "metadata": {},
     "output_type": "execute_result"
    }
   ],
   "source": [
    "#Your code here\n",
    "import pandas as pd\n",
    "\n",
    "df = pd.read_csv('multipleChoiceResponses_cleaned.csv', encoding='latin1')\n",
    "df.head()"
   ]
  },
  {
   "cell_type": "markdown",
   "metadata": {},
   "source": [
    "## Wages and Education\n",
    "\n",
    "You've been asked to determine whether education is impactful to salary. Develop a hypothesis test to compare the salaries of those with Master's degrees to those with Bachelor's degrees. Are the two statistically different according to your results?\n",
    "\n",
    "> Note: The relevant features are stored in the 'FormalEducation' and 'AdjustedCompensation' features."
   ]
  },
  {
   "cell_type": "code",
   "execution_count": 73,
   "metadata": {},
   "outputs": [
    {
     "name": "stderr",
     "output_type": "stream",
     "text": [
      "/Users/isobeldaley/anaconda3/lib/python3.7/site-packages/ipykernel_launcher.py:6: SettingWithCopyWarning: \n",
      "A value is trying to be set on a copy of a slice from a DataFrame\n",
      "\n",
      "See the caveats in the documentation: http://pandas.pydata.org/pandas-docs/stable/indexing.html#indexing-view-versus-copy\n",
      "  \n"
     ]
    },
    {
     "data": {
      "text/html": [
       "<div>\n",
       "<style scoped>\n",
       "    .dataframe tbody tr th:only-of-type {\n",
       "        vertical-align: middle;\n",
       "    }\n",
       "\n",
       "    .dataframe tbody tr th {\n",
       "        vertical-align: top;\n",
       "    }\n",
       "\n",
       "    .dataframe thead th {\n",
       "        text-align: right;\n",
       "    }\n",
       "</style>\n",
       "<table border=\"1\" class=\"dataframe\">\n",
       "  <thead>\n",
       "    <tr style=\"text-align: right;\">\n",
       "      <th></th>\n",
       "      <th>FormalEducation</th>\n",
       "      <th>AdjustedCompensation</th>\n",
       "    </tr>\n",
       "  </thead>\n",
       "  <tbody>\n",
       "    <tr>\n",
       "      <th>3</th>\n",
       "      <td>Master's degree</td>\n",
       "      <td>250000.000</td>\n",
       "    </tr>\n",
       "    <tr>\n",
       "      <th>8</th>\n",
       "      <td>Bachelor's degree</td>\n",
       "      <td>64184.800</td>\n",
       "    </tr>\n",
       "    <tr>\n",
       "      <th>9</th>\n",
       "      <td>Bachelor's degree</td>\n",
       "      <td>20882.400</td>\n",
       "    </tr>\n",
       "    <tr>\n",
       "      <th>11</th>\n",
       "      <td>Bachelor's degree</td>\n",
       "      <td>1483.900</td>\n",
       "    </tr>\n",
       "    <tr>\n",
       "      <th>14</th>\n",
       "      <td>Master's degree</td>\n",
       "      <td>36634.400</td>\n",
       "    </tr>\n",
       "    <tr>\n",
       "      <th>21</th>\n",
       "      <td>Bachelor's degree</td>\n",
       "      <td>20000.000</td>\n",
       "    </tr>\n",
       "    <tr>\n",
       "      <th>22</th>\n",
       "      <td>Doctoral degree</td>\n",
       "      <td>100000.000</td>\n",
       "    </tr>\n",
       "    <tr>\n",
       "      <th>23</th>\n",
       "      <td>Some college/university study without earning ...</td>\n",
       "      <td>916.400</td>\n",
       "    </tr>\n",
       "    <tr>\n",
       "      <th>25</th>\n",
       "      <td>Bachelor's degree</td>\n",
       "      <td>10858.848</td>\n",
       "    </tr>\n",
       "    <tr>\n",
       "      <th>27</th>\n",
       "      <td>Master's degree</td>\n",
       "      <td>53352.000</td>\n",
       "    </tr>\n",
       "  </tbody>\n",
       "</table>\n",
       "</div>"
      ],
      "text/plain": [
       "                                      FormalEducation  AdjustedCompensation\n",
       "3                                     Master's degree            250000.000\n",
       "8                                   Bachelor's degree             64184.800\n",
       "9                                   Bachelor's degree             20882.400\n",
       "11                                  Bachelor's degree              1483.900\n",
       "14                                    Master's degree             36634.400\n",
       "21                                  Bachelor's degree             20000.000\n",
       "22                                    Doctoral degree            100000.000\n",
       "23  Some college/university study without earning ...               916.400\n",
       "25                                  Bachelor's degree             10858.848\n",
       "27                                    Master's degree             53352.000"
      ]
     },
     "execution_count": 73,
     "metadata": {},
     "output_type": "execute_result"
    }
   ],
   "source": [
    "#Your code here\n",
    "\n",
    "#Create dataframe with variables of interest.  Exclude NaN\n",
    "\n",
    "df_hypothesis = df[['FormalEducation', 'AdjustedCompensation']]\n",
    "df_hypothesis.dropna(axis=0, inplace=True)\n",
    "df_hypothesis.head(10)"
   ]
  },
  {
   "cell_type": "code",
   "execution_count": 68,
   "metadata": {},
   "outputs": [
    {
     "name": "stdout",
     "output_type": "stream",
     "text": [
      "Median Values: \tbachelors:38399.4 \tmasters: 53812.17\n",
      "Mean Values: \tbachelors: 64887.1 \tmasters:69139.9\n",
      "Sample Sizes: \tbachelors: 1107 \tmasters: 1990\n",
      "Welch's ttest pvalue [0.33077639]\n"
     ]
    }
   ],
   "source": [
    "# H0 = There is no difference in AdjustedCompensation between those with bachelors, and those with Master's\n",
    "# H1 = This is a difference in AdjustedCompensation\n",
    "\n",
    "alpha = 0.05\n",
    "\n",
    "sample_bachelors = df_hypothesis.loc[(df_hypothesis['FormalEducation']==\"Bachelor's degree\"), ['AdjustedCompensation']]\n",
    "sample_masters = df_hypothesis.loc[(df_hypothesis['FormalEducation']==\"Master's degree\"), ['AdjustedCompensation']]\n",
    "\n",
    "import flatiron_stats as fs\n",
    "\n",
    "p = fs.p_value_welch_ttest(sample_bachelors, sample_masters, two_sided=False)\n",
    "print(f\"Median Values: \\tbachelors:{round(sample_bachelors['AdjustedCompensation'].median(),2)} \\tmasters: {round(sample_masters['AdjustedCompensation'].median(),2)}\")\n",
    "print(f\"Mean Values: \\tbachelors: {round(sample_bachelors['AdjustedCompensation'].mean(),2)} \\tmasters:{round(sample_masters['AdjustedCompensation'].mean(),2)}\")\n",
    "print(f\"Sample Sizes: \\tbachelors: {len(sample_bachelors)} \\tmasters: {len(sample_masters)}\")\n",
    "print(f\"Welch's ttest pvalue {p}\")\n",
    "\n",
    "# We cannot reject the null hypothesis"
   ]
  },
  {
   "cell_type": "code",
   "execution_count": 69,
   "metadata": {},
   "outputs": [
    {
     "name": "stdout",
     "output_type": "stream",
     "text": [
      "0.8th percentile: \tbachelors: 93233.13, \tmasters: 103000.0\n",
      "0.81th percentile: \tbachelors: 95572.83, \tmasters: 107009.0\n",
      "0.82th percentile: \tbachelors: 99276.38, \tmasters: 110000.0\n",
      "0.83th percentile: \tbachelors: 100000.0, \tmasters: 111503.83\n",
      "0.84th percentile: \tbachelors: 103040.0, \tmasters: 115240.4\n",
      "0.85th percentile: \tbachelors: 105935.04, \tmasters: 119582.6\n",
      "0.86th percentile: \tbachelors: 110000.0, \tmasters: 120000.0\n",
      "0.87th percentile: \tbachelors: 112000.0, \tmasters: 124719.88\n",
      "0.88th percentile: \tbachelors: 115000.0, \tmasters: 129421.46\n",
      "0.89th percentile: \tbachelors: 120000.0, \tmasters: 130000.0\n",
      "0.9th percentile: \tbachelors: 120346.5, \tmasters: 135000.0\n",
      "0.91th percentile: \tbachelors: 126460.0, \tmasters: 140000.0\n",
      "0.92th percentile: \tbachelors: 132615.4, \tmasters: 149640.0\n",
      "0.93th percentile: \tbachelors: 140000.0, \tmasters: 150000.0\n",
      "0.94th percentile: \tbachelors: 143408.8, \tmasters: 160000.0\n",
      "0.95th percentile: \tbachelors: 150000.0, \tmasters: 166778.6\n",
      "0.96th percentile: \tbachelors: 179849.74, \tmasters: 180000.0\n",
      "0.97th percentile: \tbachelors: 195000.0, \tmasters: 200000.0\n",
      "0.98th percentile: \tbachelors: 200000.0, \tmasters: 211100.0\n",
      "0.99th percentile: \tbachelors: 250000.0, \tmasters: 250000.0\n",
      "1.0th percentile: \tbachelors: 9999999.0, \tmasters: 4498900.0\n"
     ]
    }
   ],
   "source": [
    "# Find outliers\n",
    "\n",
    "import numpy as np\n",
    "\n",
    "for q in np.linspace(0.8,1, num=21):\n",
    "    bachelorsq = round(sample_bachelors['AdjustedCompensation'].quantile(q=q),2)\n",
    "    mastersq = round(sample_masters['AdjustedCompensation'].quantile(q=q),2)\n",
    "    print(f\"{round(q,2)}th percentile: \\tbachelors: {bachelorsq}, \\tmasters: {mastersq}\")\n",
    "                "
   ]
  },
  {
   "cell_type": "code",
   "execution_count": 70,
   "metadata": {},
   "outputs": [],
   "source": [
    "# Drop observations where salary greater than 500K\n",
    "\n",
    "sample_bachelors = sample_bachelors.loc[sample_bachelors['AdjustedCompensation']<=500000]\n",
    "sample_masters = sample_masters.loc[sample_masters['AdjustedCompensation']<=500000]"
   ]
  },
  {
   "cell_type": "code",
   "execution_count": 71,
   "metadata": {},
   "outputs": [
    {
     "name": "stdout",
     "output_type": "stream",
     "text": [
      "0.8th percentile: \tbachelors: 91632.0, \tmasters: 102134.74\n",
      "0.81th percentile: \tbachelors: 95000.0, \tmasters: 106095.46\n",
      "0.82th percentile: \tbachelors: 97971.2, \tmasters: 110000.0\n",
      "0.83th percentile: \tbachelors: 100000.0, \tmasters: 110000.0\n",
      "0.84th percentile: \tbachelors: 102504.11, \tmasters: 115000.0\n",
      "0.85th percentile: \tbachelors: 105000.0, \tmasters: 119582.6\n",
      "0.86th percentile: \tbachelors: 110000.0, \tmasters: 120000.0\n",
      "0.87th percentile: \tbachelors: 110000.0, \tmasters: 120346.5\n",
      "0.88th percentile: \tbachelors: 115000.0, \tmasters: 126780.12\n",
      "0.89th percentile: \tbachelors: 117732.86, \tmasters: 130000.0\n",
      "0.9th percentile: \tbachelors: 120000.0, \tmasters: 132251.28\n",
      "0.91th percentile: \tbachelors: 125000.0, \tmasters: 140000.0\n",
      "0.92th percentile: \tbachelors: 130000.0, \tmasters: 145000.0\n",
      "0.93th percentile: \tbachelors: 137930.0, \tmasters: 150000.0\n",
      "0.94th percentile: \tbachelors: 140000.0, \tmasters: 155457.38\n",
      "0.95th percentile: \tbachelors: 150000.0, \tmasters: 165000.0\n",
      "0.96th percentile: \tbachelors: 174200.0, \tmasters: 177781.67\n",
      "0.97th percentile: \tbachelors: 185000.0, \tmasters: 192001.92\n",
      "0.98th percentile: \tbachelors: 200000.0, \tmasters: 205000.0\n",
      "0.99th percentile: \tbachelors: 224900.0, \tmasters: 248921.52\n",
      "1.0th percentile: \tbachelors: 470000.0, \tmasters: 500000.0\n"
     ]
    }
   ],
   "source": [
    "for q in np.linspace(0.8,1, num=21):\n",
    "    bachelorsq = round(sample_bachelors['AdjustedCompensation'].quantile(q=q),2)\n",
    "    mastersq = round(sample_masters['AdjustedCompensation'].quantile(q=q),2)\n",
    "    print(f\"{round(q,2)}th percentile: \\tbachelors: {bachelorsq}, \\tmasters: {mastersq}\")"
   ]
  },
  {
   "cell_type": "code",
   "execution_count": 72,
   "metadata": {},
   "outputs": [
    {
     "name": "stdout",
     "output_type": "stream",
     "text": [
      "Median Values: \tbachelors:38292.15 \tmasters: 53539.72\n",
      "Mean Values: \tbachelors: 53744.35 \tmasters:63976.63\n",
      "Sample Sizes: \tbachelors: 1103 \tmasters: 1985\n",
      "Welch's ttest pvalue [4.48745833e-07]\n"
     ]
    }
   ],
   "source": [
    "\n",
    "\n",
    "p = fs.p_value_welch_ttest(sample_bachelors, sample_masters, two_sided=False)\n",
    "print(f\"Median Values: \\tbachelors:{round(sample_bachelors['AdjustedCompensation'].median(),2)} \\tmasters: {round(sample_masters['AdjustedCompensation'].median(),2)}\")\n",
    "print(f\"Mean Values: \\tbachelors: {round(sample_bachelors['AdjustedCompensation'].mean(),2)} \\tmasters:{round(sample_masters['AdjustedCompensation'].mean(),2)}\")\n",
    "print(f\"Sample Sizes: \\tbachelors: {len(sample_bachelors)} \\tmasters: {len(sample_masters)}\")\n",
    "print(f\"Welch's ttest pvalue {p}\")"
   ]
  },
  {
   "cell_type": "code",
   "execution_count": null,
   "metadata": {},
   "outputs": [],
   "source": [
    "# The null hypothesis can be rejected"
   ]
  },
  {
   "cell_type": "markdown",
   "metadata": {},
   "source": [
    "## Wages and Education II\n",
    "\n",
    "Now perform a similar statistical test comparing the AdjustedCompensation of those with Bachelor's degrees and those with Doctorates. If you haven't already, be sure to explore the distribution of the AdjustedCompensation feature for any anomalies. "
   ]
  },
  {
   "cell_type": "code",
   "execution_count": 75,
   "metadata": {},
   "outputs": [],
   "source": [
    "#Your code here\n",
    "\n",
    "sample_bachelors = df_hypothesis.loc[(df_hypothesis['FormalEducation']==\"Bachelor's degree\"), ['AdjustedCompensation']]\n",
    "sample_doctorate = df_hypothesis.loc[(df_hypothesis['FormalEducation']==\"Doctoral degree\"), ['AdjustedCompensation']]\n"
   ]
  },
  {
   "cell_type": "code",
   "execution_count": 76,
   "metadata": {},
   "outputs": [
    {
     "name": "stdout",
     "output_type": "stream",
     "text": [
      "0.8th percentile: \tbachelors: 93233.13, \tdoctorate: 135000.0\n",
      "0.81th percentile: \tbachelors: 95572.83, \tdoctorate: 140000.0\n",
      "0.82th percentile: \tbachelors: 99276.38, \tdoctorate: 140000.0\n",
      "0.83th percentile: \tbachelors: 100000.0, \tdoctorate: 146796.17\n",
      "0.84th percentile: \tbachelors: 103040.0, \tdoctorate: 150000.0\n",
      "0.85th percentile: \tbachelors: 105935.04, \tdoctorate: 150000.0\n",
      "0.86th percentile: \tbachelors: 110000.0, \tdoctorate: 155000.0\n",
      "0.87th percentile: \tbachelors: 112000.0, \tdoctorate: 160000.0\n",
      "0.88th percentile: \tbachelors: 115000.0, \tdoctorate: 160000.0\n",
      "0.89th percentile: \tbachelors: 120000.0, \tdoctorate: 166480.0\n",
      "0.9th percentile: \tbachelors: 120346.5, \tdoctorate: 172057.78\n",
      "0.91th percentile: \tbachelors: 126460.0, \tdoctorate: 175000.0\n",
      "0.92th percentile: \tbachelors: 132615.4, \tdoctorate: 181555.2\n",
      "0.93th percentile: \tbachelors: 140000.0, \tdoctorate: 191900.0\n",
      "0.94th percentile: \tbachelors: 143408.8, \tdoctorate: 200000.0\n",
      "0.95th percentile: \tbachelors: 150000.0, \tdoctorate: 200000.0\n",
      "0.96th percentile: \tbachelors: 179849.74, \tdoctorate: 220999.61\n",
      "0.97th percentile: \tbachelors: 195000.0, \tdoctorate: 240879.14\n",
      "0.98th percentile: \tbachelors: 200000.0, \tdoctorate: 277349.78\n",
      "0.99th percentile: \tbachelors: 250000.0, \tdoctorate: 336800.0\n",
      "1.0th percentile: \tbachelors: 9999999.0, \tdoctorate: 28297400000.0\n"
     ]
    }
   ],
   "source": [
    "for q in np.linspace(0.8,1, num=21):\n",
    "    bachelorsq = round(sample_bachelors['AdjustedCompensation'].quantile(q=q),2)\n",
    "    doctorsq = round(sample_doctorate['AdjustedCompensation'].quantile(q=q),2)\n",
    "    print(f\"{round(q,2)}th percentile: \\tbachelors: {bachelorsq}, \\tdoctorate: {doctorsq}\")"
   ]
  },
  {
   "cell_type": "code",
   "execution_count": 77,
   "metadata": {},
   "outputs": [
    {
     "name": "stdout",
     "output_type": "stream",
     "text": [
      "0.8th percentile: \tbachelors: 91632.0, \tdoctorate: 135000.0\n",
      "0.81th percentile: \tbachelors: 95000.0, \tdoctorate: 137081.5\n",
      "0.82th percentile: \tbachelors: 97971.2, \tdoctorate: 140000.0\n",
      "0.83th percentile: \tbachelors: 100000.0, \tdoctorate: 145311.31\n",
      "0.84th percentile: \tbachelors: 102504.11, \tdoctorate: 150000.0\n",
      "0.85th percentile: \tbachelors: 105000.0, \tdoctorate: 150000.0\n",
      "0.86th percentile: \tbachelors: 110000.0, \tdoctorate: 153360.0\n",
      "0.87th percentile: \tbachelors: 110000.0, \tdoctorate: 159810.0\n",
      "0.88th percentile: \tbachelors: 115000.0, \tdoctorate: 160000.0\n",
      "0.89th percentile: \tbachelors: 117732.86, \tdoctorate: 165000.0\n",
      "0.9th percentile: \tbachelors: 120000.0, \tdoctorate: 170052.5\n",
      "0.91th percentile: \tbachelors: 125000.0, \tdoctorate: 175000.0\n",
      "0.92th percentile: \tbachelors: 130000.0, \tdoctorate: 180000.0\n",
      "0.93th percentile: \tbachelors: 137930.0, \tdoctorate: 188108.39\n",
      "0.94th percentile: \tbachelors: 140000.0, \tdoctorate: 198628.2\n",
      "0.95th percentile: \tbachelors: 150000.0, \tdoctorate: 200000.0\n",
      "0.96th percentile: \tbachelors: 174200.0, \tdoctorate: 212400.0\n",
      "0.97th percentile: \tbachelors: 185000.0, \tdoctorate: 240000.0\n",
      "0.98th percentile: \tbachelors: 200000.0, \tdoctorate: 260980.47\n",
      "0.99th percentile: \tbachelors: 224900.0, \tdoctorate: 301850.0\n",
      "1.0th percentile: \tbachelors: 470000.0, \tdoctorate: 400000.0\n"
     ]
    }
   ],
   "source": [
    "# Drop observations where outliers are > 500K\n",
    "\n",
    "sample_bachelors = sample_bachelors.loc[sample_bachelors['AdjustedCompensation'] <= 500000]\n",
    "sample_doctorate = sample_doctorate.loc[sample_doctorate['AdjustedCompensation'] <= 500000]\n",
    "\n",
    "for q in np.linspace(0.8,1, num=21):\n",
    "    bachelorsq = round(sample_bachelors['AdjustedCompensation'].quantile(q=q),2)\n",
    "    doctorsq = round(sample_doctorate['AdjustedCompensation'].quantile(q=q),2)\n",
    "    print(f\"{round(q,2)}th percentile: \\tbachelors: {bachelorsq}, \\tdoctorate: {doctorsq}\")"
   ]
  },
  {
   "cell_type": "code",
   "execution_count": 87,
   "metadata": {},
   "outputs": [
    {
     "name": "stdout",
     "output_type": "stream",
     "text": [
      "Median: \tbachelors 38292.15 \tdoctorate 73152.77 \n",
      "Mean: \tbachelors 53744.35 \tdoctorate 86194.98\n",
      "Number of Samples: \tbachelors 1103 \tdoctorate 964\n",
      "Welch's T Test P Value: [0.]\n"
     ]
    }
   ],
   "source": [
    "print(f\"Median: \\tbachelors {round(np.median(sample_bachelors['AdjustedCompensation']),2)} \\tdoctorate {round(np.median(sample_doctorate['AdjustedCompensation']),2)} \")\n",
    "print(f\"Mean: \\tbachelors {round(np.mean(sample_bachelors['AdjustedCompensation']),2)} \\tdoctorate {round(np.mean(sample_doctorate['AdjustedCompensation']),2)}\")\n",
    "print(f\"Number of Samples: \\tbachelors {len(sample_bachelors)} \\tdoctorate {len(sample_doctorate)}\")\n",
    "print(f\"Welch's T Test P Value: {fs.p_value_welch_ttest(sample_bachelors, sample_doctorate, two_sided=False)}\")"
   ]
  },
  {
   "cell_type": "markdown",
   "metadata": {},
   "source": [
    "## Wages and Education III\n",
    "\n",
    "Remember the multiple comparisons problem; rather than continuing on like this, perform an ANOVA test between the various 'FormalEducation' categories and their relation to 'AdjustedCompensation'."
   ]
  },
  {
   "cell_type": "code",
   "execution_count": 89,
   "metadata": {},
   "outputs": [
    {
     "name": "stdout",
     "output_type": "stream",
     "text": [
      "                          sum_sq      df          F        PR(>F)\n",
      "C(FormalEducation)  5.841881e+11     6.0  29.224224  1.727132e-34\n",
      "Residual            1.439270e+13  4320.0        NaN           NaN\n"
     ]
    }
   ],
   "source": [
    "#Your code here\n",
    "import statsmodels.api as sm\n",
    "from statsmodels.formula.api import ols\n",
    "\n",
    "df_ANOVA = df_hypothesis.loc[df_hypothesis['AdjustedCompensation']<=500000]\n",
    "\n",
    "formula = 'AdjustedCompensation ~ C(FormalEducation)'\n",
    "lm = ols(formula, df_ANOVA).fit()\n",
    "table = sm.stats.anova_lm(lm, typ=2)\n",
    "print(table)"
   ]
  },
  {
   "cell_type": "markdown",
   "metadata": {},
   "source": [
    "## Additional Resources\n",
    "\n",
    "Here's the original source where the data was taken from:  \n",
    "    [Kaggle Machine Learning & Data Science Survey 2017](https://www.kaggle.com/kaggle/kaggle-survey-2017)"
   ]
  },
  {
   "cell_type": "markdown",
   "metadata": {},
   "source": [
    "## Summary\n",
    "\n",
    "In this lab, you practiced conducting actual hypothesis tests on actual data. From this, you saw how dependent results can be on the initial problem formulation, including preprocessing!"
   ]
  }
 ],
 "metadata": {
  "kernelspec": {
   "display_name": "Python 3",
   "language": "python",
   "name": "python3"
  },
  "language_info": {
   "codemirror_mode": {
    "name": "ipython",
    "version": 3
   },
   "file_extension": ".py",
   "mimetype": "text/x-python",
   "name": "python",
   "nbconvert_exporter": "python",
   "pygments_lexer": "ipython3",
   "version": "3.7.3"
  }
 },
 "nbformat": 4,
 "nbformat_minor": 2
}
